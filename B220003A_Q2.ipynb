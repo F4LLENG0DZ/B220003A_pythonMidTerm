{
 "cells": [
  {
   "cell_type": "code",
   "execution_count": 3,
   "id": "e9388b76-c8af-4409-8c34-f5e39b312e80",
   "metadata": {},
   "outputs": [],
   "source": [
    "import pandas as pd"
   ]
  },
  {
   "cell_type": "code",
   "execution_count": 4,
   "id": "d821615b-d4a4-448c-a6f7-de14a7db2d9c",
   "metadata": {},
   "outputs": [],
   "source": [
    "df = pd.read_csv('spotify.csv')"
   ]
  },
  {
   "cell_type": "code",
   "execution_count": 19,
   "id": "fc075d73-a707-419d-9da1-deb3cb47466e",
   "metadata": {},
   "outputs": [],
   "source": [
    "df['track_album_release_date'] = pd.to_datetime(df['track_album_release_date'], format='mixed')"
   ]
  },
  {
   "cell_type": "code",
   "execution_count": 21,
   "id": "16f1514b-1174-4000-a690-c2e1a9924151",
   "metadata": {},
   "outputs": [],
   "source": [
    "df_2017 = df[df['track_album_release_date'].dt.year == 2017]"
   ]
  },
  {
   "cell_type": "code",
   "execution_count": 41,
   "id": "7d060b49-b9bb-450b-a55d-5f54d67333da",
   "metadata": {},
   "outputs": [
    {
     "data": {
      "text/html": [
       "<div>\n",
       "<style scoped>\n",
       "    .dataframe tbody tr th:only-of-type {\n",
       "        vertical-align: middle;\n",
       "    }\n",
       "\n",
       "    .dataframe tbody tr th {\n",
       "        vertical-align: top;\n",
       "    }\n",
       "\n",
       "    .dataframe thead th {\n",
       "        text-align: right;\n",
       "    }\n",
       "</style>\n",
       "<table border=\"1\" class=\"dataframe\">\n",
       "  <thead>\n",
       "    <tr style=\"text-align: right;\">\n",
       "      <th></th>\n",
       "      <th>Year</th>\n",
       "      <th>average_loudness</th>\n",
       "      <th>average_mode</th>\n",
       "      <th>average_speechiness</th>\n",
       "      <th>average_acousticness</th>\n",
       "      <th>average_instrumentalness</th>\n",
       "      <th>average_liveness</th>\n",
       "      <th>average_valence</th>\n",
       "      <th>average_tempo</th>\n",
       "      <th>average_duration</th>\n",
       "    </tr>\n",
       "  </thead>\n",
       "  <tbody>\n",
       "    <tr>\n",
       "      <th>0</th>\n",
       "      <td>2017</td>\n",
       "      <td>-6.429812</td>\n",
       "      <td>0.543621</td>\n",
       "      <td>0.120235</td>\n",
       "      <td>0.192834</td>\n",
       "      <td>0.075551</td>\n",
       "      <td>0.178917</td>\n",
       "      <td>0.461921</td>\n",
       "      <td>120.343258</td>\n",
       "      <td>3m 38s</td>\n",
       "    </tr>\n",
       "  </tbody>\n",
       "</table>\n",
       "</div>"
      ],
      "text/plain": [
       "   Year  average_loudness  average_mode  average_speechiness  \\\n",
       "0  2017         -6.429812      0.543621             0.120235   \n",
       "\n",
       "   average_acousticness  average_instrumentalness  average_liveness  \\\n",
       "0              0.192834                  0.075551          0.178917   \n",
       "\n",
       "   average_valence  average_tempo average_duration  \n",
       "0         0.461921     120.343258           3m 38s  "
      ]
     },
     "execution_count": 41,
     "metadata": {},
     "output_type": "execute_result"
    }
   ],
   "source": [
    "means = {}\n",
    "columns = ['loudness', 'mode', 'speechiness', 'acousticness', 'instrumentalness', 'liveness', 'valence', 'tempo', 'duration_ms']\n",
    "\n",
    "for column in columns:\n",
    "    means[column] = df_2017[column].mean()\n",
    "    \n",
    "result_df = pd.DataFrame({'Year': [2017]})\n",
    "\n",
    "duration_ms_mean = means['duration_ms']\n",
    "minutes = int(duration_ms_mean // (1000 * 60))\n",
    "seconds = int((duration_ms_mean % (1000 * 60)) // 1000)\n",
    "formatted_duration = f\"{minutes}m {seconds}s\"\n",
    "\n",
    "# Create a new DataFrame with the results\n",
    "result_df = pd.DataFrame({'Year': [2017]})\n",
    "for column, mean in means.items():\n",
    "    if column == 'duration_ms':\n",
    "        result_df['average_' + 'duration'] = [formatted_duration]\n",
    "    else:\n",
    "        result_df['average_' + column] = [mean]\n",
    "\n",
    "result_df"
   ]
  },
  {
   "cell_type": "code",
   "execution_count": null,
   "id": "e5774ad3-0141-467d-a5c6-f5bb3ed9e55e",
   "metadata": {},
   "outputs": [],
   "source": []
  }
 ],
 "metadata": {
  "kernelspec": {
   "display_name": "Python 3 (ipykernel)",
   "language": "python",
   "name": "python3"
  },
  "language_info": {
   "codemirror_mode": {
    "name": "ipython",
    "version": 3
   },
   "file_extension": ".py",
   "mimetype": "text/x-python",
   "name": "python",
   "nbconvert_exporter": "python",
   "pygments_lexer": "ipython3",
   "version": "3.11.7"
  }
 },
 "nbformat": 4,
 "nbformat_minor": 5
}
