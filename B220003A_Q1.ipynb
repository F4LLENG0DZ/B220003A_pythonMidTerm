{
 "cells": [
  {
   "cell_type": "code",
   "execution_count": 44,
   "id": "8aa8ea13-d0b0-42bb-bdb7-cad2fb72ce7a",
   "metadata": {},
   "outputs": [
    {
     "name": "stdout",
     "output_type": "stream",
     "text": [
      "Please guess the characters: \n",
      "- - - - - - - - "
     ]
    },
    {
     "name": "stdin",
     "output_type": "stream",
     "text": [
      "Guess a letter: s\n"
     ]
    },
    {
     "name": "stdout",
     "output_type": "stream",
     "text": [
      "Wrong Guess\n",
      "You have  6 more guesses \n",
      "- - - - - - - - "
     ]
    },
    {
     "name": "stdin",
     "output_type": "stream",
     "text": [
      "Guess a letter: d\n"
     ]
    },
    {
     "name": "stdout",
     "output_type": "stream",
     "text": [
      "Wrong Guess\n",
      "You have  5 more guesses \n",
      "- - - - - - - - "
     ]
    },
    {
     "name": "stdin",
     "output_type": "stream",
     "text": [
      "Guess a letter: f\n"
     ]
    },
    {
     "name": "stdout",
     "output_type": "stream",
     "text": [
      "Wrong Guess\n",
      "You have  4 more guesses \n",
      "- - - - - - - - "
     ]
    },
    {
     "name": "stdin",
     "output_type": "stream",
     "text": [
      "Guess a letter: e\n"
     ]
    },
    {
     "name": "stdout",
     "output_type": "stream",
     "text": [
      "Wrong Guess\n",
      "You have  3 more guesses \n",
      "- - - - - - - - "
     ]
    },
    {
     "name": "stdin",
     "output_type": "stream",
     "text": [
      "Guess a letter: t\n"
     ]
    },
    {
     "name": "stdout",
     "output_type": "stream",
     "text": [
      "- - - t - - - - "
     ]
    },
    {
     "name": "stdin",
     "output_type": "stream",
     "text": [
      "Guess a letter: y\n"
     ]
    },
    {
     "name": "stdout",
     "output_type": "stream",
     "text": [
      "Wrong Guess\n",
      "You have  2 more guesses \n",
      "- - - t - - - - "
     ]
    },
    {
     "name": "stdin",
     "output_type": "stream",
     "text": [
      "Guess a letter: u\n"
     ]
    },
    {
     "name": "stdout",
     "output_type": "stream",
     "text": [
      "Wrong Guess\n",
      "You have  1 more guesses \n",
      "- - - t - - - - "
     ]
    },
    {
     "name": "stdin",
     "output_type": "stream",
     "text": [
      "Guess a letter: d\n"
     ]
    },
    {
     "name": "stdout",
     "output_type": "stream",
     "text": [
      "Wrong Guess\n",
      "You have  0 more guesses \n",
      "\n",
      "User Lost\n",
      "The correct answer is:  Football\n"
     ]
    }
   ],
   "source": [
    "import random as rdm  \n",
    "      \n",
    "words1 = ['Donkey', 'Aeroplane', 'America', 'Program',  \n",
    "         'Python', 'language', 'Cricket', 'Football',  \n",
    "         'Hockey', 'Spaceship', 'bus', 'flight']  \n",
    "   \n",
    "# rdm.choice() function will choose one random word from the gven list of words  \n",
    "word1 = rdm.choice(words1)  \n",
    "   \n",
    "print (\"Please guess the characters: \")  \n",
    "   \n",
    "guesses1 = ' '  \n",
    "\n",
    "#set turn limit for player to guess within n turns to win\n",
    "turns1 = 7 \n",
    "   \n",
    "   \n",
    "while turns1 > 0:  \n",
    "       \n",
    "    # counting the number of times a user is failed to guess the right character  \n",
    "    failedCount = 0  \n",
    "       \n",
    "    # all the characters from the input word will be taken one at a time.  \n",
    "    for char in word1:  \n",
    "           \n",
    "        # here, we will comparing that input character with the character in guesses1  \n",
    "        if char in guesses1:  \n",
    "            print(char, end = \" \")  \n",
    "               \n",
    "        else:  \n",
    "            print(\"-\", end = \" \")  \n",
    "               \n",
    "            # for every failure of the user 1 will be incremented in failed1  \n",
    "            failedCount += 1  \n",
    "               \n",
    "   \n",
    "    if failedCount == 0:  \n",
    "        # user will win the game if failure is 0 and 'User Win' will be given as output  \n",
    "        print(\"\\nUser Win\")  \n",
    "           \n",
    "        # this will print the correct word  \n",
    "        print(\"The correct word is: \", word1)  \n",
    "        break  \n",
    "       \n",
    "    # if the user has input the wrong alphabet then  \n",
    "    # it will ask user to enter another alphabet  \n",
    "    guess1 = input(\"Guess a letter:\")  \n",
    "       \n",
    "    # every input character will be stored in guesses  \n",
    "    guesses1 += guess1 \n",
    "       \n",
    "    # here, it will check input with the character in word  \n",
    "    if guess1 not in word1:  \n",
    "           \n",
    "        turns1 -= 1  \n",
    "           \n",
    "        # if the input character doesnot match the word  \n",
    "        # then \"Wrong Guess\" will be given as output  \n",
    "        print(\"Wrong Guess\")  \n",
    "           \n",
    "        # this will print the number of turns left for the user  \n",
    "        print(\"You have \", + turns1, 'more guesses ')  \n",
    "           \n",
    "           \n",
    "    if turns1 == 0:  \n",
    "        print(\"\\nUser Lost\")\n",
    "        print(\"The correct answer is: \", word1)"
   ]
  }
 ],
 "metadata": {
  "kernelspec": {
   "display_name": "Python 3 (ipykernel)",
   "language": "python",
   "name": "python3"
  },
  "language_info": {
   "codemirror_mode": {
    "name": "ipython",
    "version": 3
   },
   "file_extension": ".py",
   "mimetype": "text/x-python",
   "name": "python",
   "nbconvert_exporter": "python",
   "pygments_lexer": "ipython3",
   "version": "3.11.7"
  }
 },
 "nbformat": 4,
 "nbformat_minor": 5
}
